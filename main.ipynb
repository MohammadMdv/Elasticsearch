{
 "cells": [
  {
   "cell_type": "code",
   "execution_count": 1,
   "id": "initial_id",
   "metadata": {
    "collapsed": true,
    "ExecuteTime": {
     "end_time": "2024-05-28T10:17:33.139562500Z",
     "start_time": "2024-05-28T10:17:31.116684300Z"
    }
   },
   "outputs": [],
   "source": [
    "from src.faker_class import FakerWrapper\n",
    "from src.elasticsearch_client import ElasticsearchClient\n",
    "from src.logger import Logger\n",
    "from data.index_mapping import *\n",
    "\n",
    "# Initialize logger\n",
    "logger = Logger(__name__)\n",
    "\n",
    "INDEX_NAME = \"movie_reviews\"\n"
   ]
  },
  {
   "cell_type": "code",
   "outputs": [
    {
     "name": "stderr",
     "output_type": "stream",
     "text": [
      "2024-05-28 13:47:41,730 - src.elasticsearch_client - INFO - \u001B[0;32mConnected to Elasticsearch cluster\u001B[0m\n",
      "2024-05-28 13:47:41,734 - src.elasticsearch_client - ERROR - \u001B[0;31mIndex or document not found: NotFoundError(404, 'index_not_found_exception', 'no such index [movie_reviews]', movie_reviews, index_or_alias)\u001B[0m\n"
     ]
    }
   ],
   "source": [
    "es = ElasticsearchClient()\n",
    "\n",
    "# delete index\n",
    "es.delete_index(index_name=INDEX_NAME)"
   ],
   "metadata": {
    "collapsed": false,
    "ExecuteTime": {
     "end_time": "2024-05-28T10:17:41.767441300Z",
     "start_time": "2024-05-28T10:17:41.702967400Z"
    }
   },
   "id": "b85ac1291a8dc862",
   "execution_count": 2
  },
  {
   "cell_type": "code",
   "outputs": [
    {
     "name": "stderr",
     "output_type": "stream",
     "text": [
      "2024-05-28 13:47:57,071 - src.elasticsearch_client - INFO - \u001B[0;32mCreated index movie_reviews\u001B[0m\n"
     ]
    },
    {
     "data": {
      "text/plain": "True"
     },
     "execution_count": 3,
     "metadata": {},
     "output_type": "execute_result"
    }
   ],
   "source": [
    "es.create_index(\"movie_reviews\", mapping=movie_review_mapping)"
   ],
   "metadata": {
    "collapsed": false,
    "ExecuteTime": {
     "end_time": "2024-05-28T10:17:57.082151800Z",
     "start_time": "2024-05-28T10:17:56.623177700Z"
    }
   },
   "id": "dd6e601ec338ca6a",
   "execution_count": 3
  },
  {
   "cell_type": "code",
   "outputs": [
    {
     "name": "stderr",
     "output_type": "stream",
     "text": [
      "2024-05-28 13:49:10,004 - src.faker_class - INFO - \u001B[0;32mInitialize FakerWrapper Class\u001B[0m\n"
     ]
    }
   ],
   "source": [
    "fw = FakerWrapper()\n",
    "sample_data_generator = fw.generate_data(mapping=fw.mapping, num_documents=10_000)\n"
   ],
   "metadata": {
    "collapsed": false,
    "ExecuteTime": {
     "end_time": "2024-05-28T10:19:10.019469400Z",
     "start_time": "2024-05-28T10:19:09.799068900Z"
    }
   },
   "id": "a6ef88a573422a8e",
   "execution_count": 4
  },
  {
   "cell_type": "code",
   "outputs": [
    {
     "name": "stderr",
     "output_type": "stream",
     "text": [
      "2024-05-28 13:50:10,848 - src.elasticsearch_client - INFO - \u001B[0;32minsert one document to movie_reviews with body: {'movie_title': 'Sing compare if gas brother exist seat.', 'director': 'Adam Clark', 'main_actor': 'David Ramirez', 'genre': 'Action', 'release_date': datetime.date(2008, 6, 12), 'users_rating': 8, 'imdb_rating': 1}\u001B[0m\n",
      "2024-05-28 13:50:10,915 - src.elasticsearch_client - INFO - \u001B[0;32minsert one document to movie_reviews with body: {'movie_title': 'West join none such.', 'director': 'Kenneth Fernandez', 'main_actor': 'Christine Alexander DVM', 'genre': 'Action', 'release_date': datetime.date(2014, 4, 3), 'users_rating': 1, 'imdb_rating': 5}\u001B[0m\n"
     ]
    },
    {
     "data": {
      "text/plain": "True"
     },
     "execution_count": 5,
     "metadata": {},
     "output_type": "execute_result"
    }
   ],
   "source": [
    "es.insert_one_document(INDEX_NAME, body=next(sample_data_generator))\n",
    "es.insert_one_document(INDEX_NAME, body=next(sample_data_generator), doc_id=22)\n"
   ],
   "metadata": {
    "collapsed": false,
    "ExecuteTime": {
     "end_time": "2024-05-28T10:20:10.931945900Z",
     "start_time": "2024-05-28T10:20:10.825661300Z"
    }
   },
   "id": "330cf5c3eba7a370",
   "execution_count": 5
  },
  {
   "cell_type": "code",
   "outputs": [
    {
     "name": "stderr",
     "output_type": "stream",
     "text": [
      "2024-05-28 13:50:29,892 - src.elasticsearch_client - INFO - \u001B[0;32mBulk insert (10, []) documents to movie_reviews index\u001B[0m\n"
     ]
    }
   ],
   "source": [
    "es.bulk_index_documents(index_name=INDEX_NAME, documents=[next(sample_data_generator) for _ in range(10)])"
   ],
   "metadata": {
    "collapsed": false,
    "ExecuteTime": {
     "end_time": "2024-05-28T10:20:29.900896200Z",
     "start_time": "2024-05-28T10:20:29.824636900Z"
    }
   },
   "id": "88e1b751a74c1975",
   "execution_count": 6
  },
  {
   "cell_type": "code",
   "outputs": [
    {
     "name": "stderr",
     "output_type": "stream",
     "text": [
      "2024-05-28 13:50:43,382 - src.elasticsearch_client - INFO - \u001B[0;32mGetting document from index: movie_reviews with id: 22\u001B[0m\n",
      "2024-05-28 13:50:43,384 - __main__ - INFO - \u001B[0;32mdocument with id 22: {'movie_title': 'West join none such.', 'director': 'Kenneth Fernandez', 'main_actor': 'Christine Alexander DVM', 'genre': 'Action', 'release_date': '2014-04-03', 'users_rating': 1, 'imdb_rating': 5}\u001B[0m\n"
     ]
    }
   ],
   "source": [
    "document = es.get_document(index_name=INDEX_NAME, doc_id=22)\n",
    "logger.info(f\"document with id 22: {document}\")"
   ],
   "metadata": {
    "collapsed": false,
    "ExecuteTime": {
     "end_time": "2024-05-28T10:20:43.444493Z",
     "start_time": "2024-05-28T10:20:43.364631500Z"
    }
   },
   "id": "5cc12782f850b194",
   "execution_count": 7
  },
  {
   "cell_type": "code",
   "outputs": [
    {
     "name": "stderr",
     "output_type": "stream",
     "text": [
      "2024-05-28 13:50:58,812 - src.elasticsearch_client - INFO - \u001B[0;32mDelete document 22 from movie_reviews index\u001B[0m\n"
     ]
    },
    {
     "data": {
      "text/plain": "True"
     },
     "execution_count": 8,
     "metadata": {},
     "output_type": "execute_result"
    }
   ],
   "source": [
    "es.delete_document(index_name=INDEX_NAME, doc_id=22)"
   ],
   "metadata": {
    "collapsed": false,
    "ExecuteTime": {
     "end_time": "2024-05-28T10:20:58.854324100Z",
     "start_time": "2024-05-28T10:20:58.802997600Z"
    }
   },
   "id": "ee27a18ba9d862d7",
   "execution_count": 8
  },
  {
   "cell_type": "code",
   "outputs": [
    {
     "name": "stderr",
     "output_type": "stream",
     "text": [
      "2024-05-28 13:51:01,757 - src.elasticsearch_client - INFO - \u001B[0;32mCount executed on index movie_reviews, 11 documents!\u001B[0m\n"
     ]
    },
    {
     "data": {
      "text/plain": "11"
     },
     "execution_count": 9,
     "metadata": {},
     "output_type": "execute_result"
    }
   ],
   "source": [
    "es.count(index_name=INDEX_NAME)"
   ],
   "metadata": {
    "collapsed": false,
    "ExecuteTime": {
     "end_time": "2024-05-28T10:21:01.809869100Z",
     "start_time": "2024-05-28T10:21:01.738587600Z"
    }
   },
   "id": "4221e3aacf1dcd03",
   "execution_count": 9
  },
  {
   "cell_type": "code",
   "outputs": [
    {
     "name": "stderr",
     "output_type": "stream",
     "text": [
      "2024-05-28 13:51:21,638 - src.elasticsearch_client - INFO - \u001B[0;32mDeleted documents from index movie_reviews that match query {'match': {'genre': 'Drama'}}\u001B[0m\n"
     ]
    }
   ],
   "source": [
    "es.delete_by_query(query={\"match\": {\"genre\": \"Drama\"}}, index_name=INDEX_NAME)"
   ],
   "metadata": {
    "collapsed": false,
    "ExecuteTime": {
     "end_time": "2024-05-28T10:21:21.672025800Z",
     "start_time": "2024-05-28T10:21:21.570746300Z"
    }
   },
   "id": "db262d0133e81cc3",
   "execution_count": 10
  },
  {
   "cell_type": "code",
   "outputs": [
    {
     "name": "stderr",
     "output_type": "stream",
     "text": [
      "2024-05-28 13:52:08,336 - src.elasticsearch_client - INFO - \u001B[0;32mSearch executed on index movie_reviews with query {'bool': {'must': [{'match': {'genre': 'Romance'}}, {'range': {'rating': {'gte': 4}}}]}}\u001B[0m\n",
      "2024-05-28 13:52:08,340 - __main__ - INFO - \u001B[0;32mresult of search: 0 documents\u001B[0m\n"
     ]
    }
   ],
   "source": [
    "query = {\n",
    "            \"bool\": {\n",
    "                \"must\": [\n",
    "                    {\"match\": {\"genre\": \"Romance\"}},\n",
    "                    {\"range\": {\"rating\": {\"gte\": 4}}}\n",
    "                ]\n",
    "            }\n",
    "        }\n",
    "\n",
    "result = es.search(index_name=INDEX_NAME, query=query)\n",
    "logger.info(f\"result of search: {len(result)} documents\")"
   ],
   "metadata": {
    "collapsed": false,
    "ExecuteTime": {
     "end_time": "2024-05-28T10:22:08.427846Z",
     "start_time": "2024-05-28T10:22:08.285866600Z"
    }
   },
   "id": "f41a70d8dbb80b56",
   "execution_count": 12
  },
  {
   "cell_type": "code",
   "outputs": [],
   "source": [
    "for hit in result:\n",
    "    logger.info(f\"document: {hit}\")"
   ],
   "metadata": {
    "collapsed": false,
    "ExecuteTime": {
     "end_time": "2024-05-28T10:22:17.622137600Z",
     "start_time": "2024-05-28T10:22:17.616121400Z"
    }
   },
   "id": "7f9d237391e2c59e",
   "execution_count": 13
  },
  {
   "cell_type": "code",
   "outputs": [],
   "source": [],
   "metadata": {
    "collapsed": false
   },
   "id": "e54d7baf487cc688"
  }
 ],
 "metadata": {
  "kernelspec": {
   "display_name": "Python 3",
   "language": "python",
   "name": "python3"
  },
  "language_info": {
   "codemirror_mode": {
    "name": "ipython",
    "version": 2
   },
   "file_extension": ".py",
   "mimetype": "text/x-python",
   "name": "python",
   "nbconvert_exporter": "python",
   "pygments_lexer": "ipython2",
   "version": "2.7.6"
  }
 },
 "nbformat": 4,
 "nbformat_minor": 5
}
