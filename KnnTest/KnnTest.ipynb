{
 "cells": [
  {
   "cell_type": "code",
   "execution_count": 7,
   "id": "initial_id",
   "metadata": {
    "collapsed": true,
    "ExecuteTime": {
     "end_time": "2024-06-23T16:16:32.239322200Z",
     "start_time": "2024-06-23T16:16:32.189739500Z"
    }
   },
   "outputs": [],
   "source": [
    "from elasticsearch import Elasticsearch\n",
    "import pandas as pd\n",
    "\n",
    "# Define the Elasticsearch client\n",
    "es = Elasticsearch([{'host': 'localhost', 'port':9200, 'scheme':'http'}])"
   ]
  },
  {
   "cell_type": "code",
   "outputs": [],
   "source": [
    "netflix_movie = es.indices.get(index=\"netflix_movie\")"
   ],
   "metadata": {
    "collapsed": false,
    "ExecuteTime": {
     "end_time": "2024-06-23T16:16:40.702630900Z",
     "start_time": "2024-06-23T16:16:40.660736900Z"
    }
   },
   "id": "650b2815471f7cec",
   "execution_count": 8
  },
  {
   "cell_type": "code",
   "outputs": [
    {
     "data": {
      "text/plain": "ObjectApiResponse({'netflix_movie': {'aliases': {}, 'mappings': {'_meta': {'created_by': 'file-data-visualizer'}, 'properties': {'cast': {'type': 'text'}, 'country': {'type': 'text'}, 'date_added': {'type': 'keyword'}, 'description': {'type': 'text'}, 'description_vector': {'type': 'dense_vector', 'dims': 768, 'index': True, 'similarity': 'l2_norm'}, 'director': {'type': 'text'}, 'duration': {'type': 'keyword'}, 'listed_in': {'type': 'text'}, 'rating': {'type': 'keyword'}, 'release_year': {'type': 'long'}, 'show_id': {'type': 'keyword'}, 'title': {'type': 'text'}, 'type': {'type': 'keyword'}}}, 'settings': {'index': {'routing': {'allocation': {'include': {'_tier_preference': 'data_content'}}}, 'number_of_shards': '1', 'provided_name': 'netflix_movie', 'creation_date': '1716724277097', 'number_of_replicas': '1', 'uuid': '5pR_mfM7QAGkPEaThGAJoA', 'version': {'created': '8070199'}}}}})"
     },
     "execution_count": 9,
     "metadata": {},
     "output_type": "execute_result"
    }
   ],
   "source": [
    "netflix_movie"
   ],
   "metadata": {
    "collapsed": false,
    "ExecuteTime": {
     "end_time": "2024-06-23T16:16:53.969798600Z",
     "start_time": "2024-06-23T16:16:53.948362400Z"
    }
   },
   "id": "8430d6e3faa81b2b",
   "execution_count": 9
  },
  {
   "cell_type": "code",
   "outputs": [],
   "source": [],
   "metadata": {
    "collapsed": false
   },
   "id": "3c2ac926ff83d0a2"
  }
 ],
 "metadata": {
  "kernelspec": {
   "display_name": "Python 3",
   "language": "python",
   "name": "python3"
  },
  "language_info": {
   "codemirror_mode": {
    "name": "ipython",
    "version": 2
   },
   "file_extension": ".py",
   "mimetype": "text/x-python",
   "name": "python",
   "nbconvert_exporter": "python",
   "pygments_lexer": "ipython2",
   "version": "2.7.6"
  }
 },
 "nbformat": 4,
 "nbformat_minor": 5
}
