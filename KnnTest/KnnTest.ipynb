{
 "cells": [
  {
   "cell_type": "code",
   "execution_count": 7,
   "id": "initial_id",
   "metadata": {
    "collapsed": true,
    "ExecuteTime": {
     "end_time": "2024-06-23T16:16:32.239322200Z",
     "start_time": "2024-06-23T16:16:32.189739500Z"
    }
   },
   "outputs": [],
   "source": [
    "from elasticsearch import Elasticsearch\n",
    "import pandas as pd\n",
    "\n",
    "# Define the Elasticsearch client\n",
    "es = Elasticsearch([{'host': 'localhost', 'port':9200, 'scheme':'http'}])"
   ]
  },
  {
   "cell_type": "code",
   "outputs": [],
   "source": [
    "index_name = \"netflix_movie\"\n",
    "netflix_movie = es.indices.get(index=index_name)"
   ],
   "metadata": {
    "collapsed": false,
    "ExecuteTime": {
     "end_time": "2024-06-23T16:45:09.399626200Z",
     "start_time": "2024-06-23T16:45:09.387480300Z"
    }
   },
   "id": "650b2815471f7cec",
   "execution_count": 13
  },
  {
   "cell_type": "code",
   "outputs": [
    {
     "data": {
      "text/plain": "ObjectApiResponse({'netflix_movie': {'aliases': {}, 'mappings': {'_meta': {'created_by': 'file-data-visualizer'}, 'properties': {'cast': {'type': 'text'}, 'country': {'type': 'text'}, 'date_added': {'type': 'keyword'}, 'description': {'type': 'text'}, 'description_vector': {'type': 'dense_vector', 'dims': 768, 'index': True, 'similarity': 'l2_norm'}, 'director': {'type': 'text'}, 'duration': {'type': 'keyword'}, 'listed_in': {'type': 'text'}, 'rating': {'type': 'keyword'}, 'release_year': {'type': 'long'}, 'show_id': {'type': 'keyword'}, 'title': {'type': 'text'}, 'type': {'type': 'keyword'}}}, 'settings': {'index': {'routing': {'allocation': {'include': {'_tier_preference': 'data_content'}}}, 'number_of_shards': '1', 'provided_name': 'netflix_movie', 'creation_date': '1716724277097', 'number_of_replicas': '1', 'uuid': '5pR_mfM7QAGkPEaThGAJoA', 'version': {'created': '8070199'}}}}})"
     },
     "execution_count": 9,
     "metadata": {},
     "output_type": "execute_result"
    }
   ],
   "source": [
    "netflix_movie"
   ],
   "metadata": {
    "collapsed": false,
    "ExecuteTime": {
     "end_time": "2024-06-23T16:16:53.969798600Z",
     "start_time": "2024-06-23T16:16:53.948362400Z"
    }
   },
   "id": "8430d6e3faa81b2b",
   "execution_count": 9
  },
  {
   "cell_type": "code",
   "outputs": [],
   "source": [
    "from sentence_transformers import SentenceTransformer\n",
    "model = SentenceTransformer('model')"
   ],
   "metadata": {
    "collapsed": false,
    "ExecuteTime": {
     "end_time": "2024-06-23T16:24:18.634508Z",
     "start_time": "2024-06-23T16:24:07.283197600Z"
    }
   },
   "id": "3c2ac926ff83d0a2",
   "execution_count": 10
  },
  {
   "cell_type": "code",
   "outputs": [
    {
     "name": "stderr",
     "output_type": "stream",
     "text": [
      "100%|██████████| 8805/8805 [13:42<00:00, 10.70it/s]\n"
     ]
    }
   ],
   "source": [
    "# creating description embeddings for all the movies and updating the index with the embeddings\n",
    "import tqdm\n",
    "\n",
    "# retrieving all the movies\n",
    "search_result = es.search(\n",
    "  index=index_name,\n",
    "  size=8805\n",
    ")\n",
    "for i in tqdm.tqdm(search_result['hits']['hits']):\n",
    "    description = i['_source']['description']\n",
    "    description_embedding = model.encode(description)\n",
    "    es.update(index='netflix_movie', id=i['_id'], body={\"doc\": {\"description_vector\": description_embedding}})"
   ],
   "metadata": {
    "collapsed": false,
    "ExecuteTime": {
     "end_time": "2024-06-23T19:13:48.690014500Z",
     "start_time": "2024-06-23T19:00:00.702087700Z"
    }
   },
   "id": "c070da6fe6c83564",
   "execution_count": 18
  },
  {
   "cell_type": "code",
   "outputs": [
    {
     "name": "stderr",
     "output_type": "stream",
     "text": [
      "C:\\Users\\ALFA RAYAN\\AppData\\Local\\Temp\\ipykernel_14272\\898805795.py:11: ElasticsearchWarning: The kNN search API has been replaced by the `knn` option in the search API.\n",
      "  res = es.knn_search(index=index_name, knn=query, source=[\"title\", \"description\"])\n"
     ]
    },
    {
     "data": {
      "text/plain": "[{'_index': 'netflix_movie',\n  '_id': '18G9tI8BokgvgvJRoekg',\n  '_score': 0.43314347,\n  '_source': {'description': 'Family man Devin falls back into his sneaker obsession after his pal Bobby talks him into a wheeling-dealing scheme to score a mythical pair of kicks.',\n   'title': 'Sneakerheads'}},\n {'_index': 'netflix_movie',\n  '_id': 'AsG9tI8BokgvgvJRpf8t',\n  '_score': 0.43014672,\n  '_source': {'description': 'This documentary chronicles the rise of the footwear designer behind a billion-dollar empire and his subsequent comeback after a financial scandal.',\n   'title': 'Maddman: The Steve Madden Story'}}]"
     },
     "execution_count": 21,
     "metadata": {},
     "output_type": "execute_result"
    }
   ],
   "source": [
    "input_keyword = \"Blue shoes\"\n",
    "vector_of_input_keyword = model.encode(input_keyword)\n",
    "\n",
    "query = {\n",
    "    \"field\" : \"description_vector\",\n",
    "    \"query_vector\" : vector_of_input_keyword,\n",
    "    \"k\" : 2,\n",
    "    \"num_candidates\" : 500, \n",
    "}\n",
    "\n",
    "res = es.knn_search(index=index_name, knn=query, source=[\"title\", \"description\"])\n",
    "res[\"hits\"][\"hits\"]"
   ],
   "metadata": {
    "collapsed": false,
    "ExecuteTime": {
     "end_time": "2024-06-23T19:20:56.521332200Z",
     "start_time": "2024-06-23T19:20:56.341808100Z"
    }
   },
   "id": "97c653d00a3303c4",
   "execution_count": 21
  },
  {
   "cell_type": "code",
   "outputs": [],
   "source": [],
   "metadata": {
    "collapsed": false
   },
   "id": "a54c7130677f58b4"
  }
 ],
 "metadata": {
  "kernelspec": {
   "display_name": "Python 3",
   "language": "python",
   "name": "python3"
  },
  "language_info": {
   "codemirror_mode": {
    "name": "ipython",
    "version": 2
   },
   "file_extension": ".py",
   "mimetype": "text/x-python",
   "name": "python",
   "nbconvert_exporter": "python",
   "pygments_lexer": "ipython2",
   "version": "2.7.6"
  }
 },
 "nbformat": 4,
 "nbformat_minor": 5
}
