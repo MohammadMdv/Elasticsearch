{
 "cells": [
  {
   "cell_type": "code",
   "execution_count": 1,
   "id": "initial_id",
   "metadata": {
    "collapsed": true,
    "ExecuteTime": {
     "end_time": "2024-07-05T12:16:37.246191700Z",
     "start_time": "2024-07-05T12:16:35.970590Z"
    }
   },
   "outputs": [],
   "source": [
    "from elasticsearch import Elasticsearch\n",
    "import pandas as pd\n",
    "\n",
    "# Define the Elasticsearch client\n",
    "es = Elasticsearch([{'host': 'localhost', 'port':9200, 'scheme':'http'}])"
   ]
  },
  {
   "cell_type": "code",
   "outputs": [],
   "source": [
    "index_name = \"netflix_movie\"\n",
    "netflix_movie = es.indices.get(index=index_name)"
   ],
   "metadata": {
    "collapsed": false,
    "ExecuteTime": {
     "end_time": "2024-07-05T12:21:26.570033900Z",
     "start_time": "2024-07-05T12:21:26.538249200Z"
    }
   },
   "id": "650b2815471f7cec",
   "execution_count": 5
  },
  {
   "cell_type": "code",
   "outputs": [
    {
     "data": {
      "text/plain": "ObjectApiResponse({'netflix_movie': {'aliases': {}, 'mappings': {'_meta': {'created_by': 'file-data-visualizer'}, 'properties': {'cast': {'type': 'text'}, 'country': {'type': 'text'}, 'date_added': {'type': 'keyword'}, 'description': {'type': 'text'}, 'description_embedding': {'type': 'float'}, 'description_vector': {'type': 'dense_vector', 'dims': 768, 'index': True, 'similarity': 'l2_norm'}, 'director': {'type': 'text'}, 'duration': {'type': 'keyword'}, 'listed_in': {'type': 'text'}, 'rating': {'type': 'keyword'}, 'release_year': {'type': 'long'}, 'show_id': {'type': 'keyword'}, 'title': {'type': 'text'}, 'type': {'type': 'keyword'}}}, 'settings': {'index': {'routing': {'allocation': {'include': {'_tier_preference': 'data_content'}}}, 'number_of_shards': '1', 'provided_name': 'netflix_movie', 'creation_date': '1716724277097', 'number_of_replicas': '1', 'uuid': '5pR_mfM7QAGkPEaThGAJoA', 'version': {'created': '8070199'}}}}})"
     },
     "execution_count": 6,
     "metadata": {},
     "output_type": "execute_result"
    }
   ],
   "source": [
    "netflix_movie"
   ],
   "metadata": {
    "collapsed": false,
    "ExecuteTime": {
     "end_time": "2024-07-05T12:21:27.623326300Z",
     "start_time": "2024-07-05T12:21:27.611918900Z"
    }
   },
   "id": "8430d6e3faa81b2b",
   "execution_count": 6
  },
  {
   "cell_type": "code",
   "outputs": [],
   "source": [
    "from sentence_transformers import SentenceTransformer\n",
    "import torch\n",
    "\n",
    "device = torch.device(\"cuda\" if torch.cuda.is_available() else \"cpu\")\n",
    "model = SentenceTransformer('../backend/embedding_models/bert-base-nli-mean-tokens').to(device)"
   ],
   "metadata": {
    "collapsed": false,
    "ExecuteTime": {
     "end_time": "2024-07-05T12:25:56.272795600Z",
     "start_time": "2024-07-05T12:25:45.823632500Z"
    }
   },
   "id": "3c2ac926ff83d0a2",
   "execution_count": 10
  },
  {
   "cell_type": "code",
   "outputs": [
    {
     "name": "stderr",
     "output_type": "stream",
     "text": [
      "  7%|▋         | 652/8805 [00:22<04:38, 29.31it/s]\n"
     ]
    },
    {
     "ename": "KeyboardInterrupt",
     "evalue": "",
     "output_type": "error",
     "traceback": [
      "\u001B[1;31m---------------------------------------------------------------------------\u001B[0m",
      "\u001B[1;31mKeyboardInterrupt\u001B[0m                         Traceback (most recent call last)",
      "Cell \u001B[1;32mIn[11], line 11\u001B[0m\n\u001B[0;32m      9\u001B[0m \u001B[38;5;28;01mfor\u001B[39;00m i \u001B[38;5;129;01min\u001B[39;00m tqdm\u001B[38;5;241m.\u001B[39mtqdm(search_result[\u001B[38;5;124m'\u001B[39m\u001B[38;5;124mhits\u001B[39m\u001B[38;5;124m'\u001B[39m][\u001B[38;5;124m'\u001B[39m\u001B[38;5;124mhits\u001B[39m\u001B[38;5;124m'\u001B[39m]):\n\u001B[0;32m     10\u001B[0m     description \u001B[38;5;241m=\u001B[39m i[\u001B[38;5;124m'\u001B[39m\u001B[38;5;124m_source\u001B[39m\u001B[38;5;124m'\u001B[39m][\u001B[38;5;124m'\u001B[39m\u001B[38;5;124mdescription\u001B[39m\u001B[38;5;124m'\u001B[39m]\n\u001B[1;32m---> 11\u001B[0m     description_embedding \u001B[38;5;241m=\u001B[39m \u001B[43mmodel\u001B[49m\u001B[38;5;241;43m.\u001B[39;49m\u001B[43mencode\u001B[49m\u001B[43m(\u001B[49m\u001B[43mdescription\u001B[49m\u001B[43m,\u001B[49m\u001B[43m \u001B[49m\u001B[43mdevice\u001B[49m\u001B[38;5;241;43m=\u001B[39;49m\u001B[43mdevice\u001B[49m\u001B[43m)\u001B[49m\n\u001B[0;32m     12\u001B[0m     \u001B[38;5;66;03m# es.update(index='netflix_movie', id=i['_id'], body={\"doc\": {\"description_vector\": description_embedding}})\u001B[39;00m\n",
      "File \u001B[1;32m~\\anaconda3\\Lib\\site-packages\\sentence_transformers\\SentenceTransformer.py:513\u001B[0m, in \u001B[0;36mSentenceTransformer.encode\u001B[1;34m(self, sentences, prompt_name, prompt, batch_size, show_progress_bar, output_value, precision, convert_to_numpy, convert_to_tensor, device, normalize_embeddings)\u001B[0m\n\u001B[0;32m    504\u001B[0m         \u001B[38;5;28;01mif\u001B[39;00m \u001B[38;5;124m\"\u001B[39m\u001B[38;5;124mtoken_type_ids\u001B[39m\u001B[38;5;124m\"\u001B[39m \u001B[38;5;129;01min\u001B[39;00m features:\n\u001B[0;32m    505\u001B[0m             features[\u001B[38;5;124m\"\u001B[39m\u001B[38;5;124mtoken_type_ids\u001B[39m\u001B[38;5;124m\"\u001B[39m] \u001B[38;5;241m=\u001B[39m torch\u001B[38;5;241m.\u001B[39mcat(\n\u001B[0;32m    506\u001B[0m                 (\n\u001B[0;32m    507\u001B[0m                     features[\u001B[38;5;124m\"\u001B[39m\u001B[38;5;124mtoken_type_ids\u001B[39m\u001B[38;5;124m\"\u001B[39m],\n\u001B[1;32m   (...)\u001B[0m\n\u001B[0;32m    510\u001B[0m                 \u001B[38;5;241m-\u001B[39m\u001B[38;5;241m1\u001B[39m,\n\u001B[0;32m    511\u001B[0m             )\n\u001B[1;32m--> 513\u001B[0m features \u001B[38;5;241m=\u001B[39m \u001B[43mbatch_to_device\u001B[49m\u001B[43m(\u001B[49m\u001B[43mfeatures\u001B[49m\u001B[43m,\u001B[49m\u001B[43m \u001B[49m\u001B[43mdevice\u001B[49m\u001B[43m)\u001B[49m\n\u001B[0;32m    514\u001B[0m features\u001B[38;5;241m.\u001B[39mupdate(extra_features)\n\u001B[0;32m    516\u001B[0m \u001B[38;5;28;01mwith\u001B[39;00m torch\u001B[38;5;241m.\u001B[39mno_grad():\n",
      "File \u001B[1;32m~\\anaconda3\\Lib\\site-packages\\sentence_transformers\\util.py:561\u001B[0m, in \u001B[0;36mbatch_to_device\u001B[1;34m(batch, target_device)\u001B[0m\n\u001B[0;32m    559\u001B[0m \u001B[38;5;28;01mfor\u001B[39;00m key \u001B[38;5;129;01min\u001B[39;00m batch:\n\u001B[0;32m    560\u001B[0m     \u001B[38;5;28;01mif\u001B[39;00m \u001B[38;5;28misinstance\u001B[39m(batch[key], Tensor):\n\u001B[1;32m--> 561\u001B[0m         batch[key] \u001B[38;5;241m=\u001B[39m \u001B[43mbatch\u001B[49m\u001B[43m[\u001B[49m\u001B[43mkey\u001B[49m\u001B[43m]\u001B[49m\u001B[38;5;241;43m.\u001B[39;49m\u001B[43mto\u001B[49m\u001B[43m(\u001B[49m\u001B[43mtarget_device\u001B[49m\u001B[43m)\u001B[49m\n\u001B[0;32m    562\u001B[0m \u001B[38;5;28;01mreturn\u001B[39;00m batch\n",
      "\u001B[1;31mKeyboardInterrupt\u001B[0m: "
     ]
    }
   ],
   "source": [
    "# creating description embeddings for all the movies and updating the index with the embeddings\n",
    "import tqdm\n",
    "\n",
    "# retrieving all the movies\n",
    "search_result = es.search(\n",
    "  index=index_name,\n",
    "  size=8805\n",
    ")\n",
    "for i in tqdm.tqdm(search_result['hits']['hits']):\n",
    "    description = i['_source']['description']\n",
    "    description_embedding = model.encode(description, device=device)\n",
    "    # es.update(index='netflix_movie', id=i['_id'], body={\"doc\": {\"description_vector\": description_embedding}})"
   ],
   "metadata": {
    "collapsed": false,
    "ExecuteTime": {
     "end_time": "2024-07-05T12:26:40.367268100Z",
     "start_time": "2024-07-05T12:26:07.384196400Z"
    }
   },
   "id": "c070da6fe6c83564",
   "execution_count": 11
  },
  {
   "cell_type": "code",
   "outputs": [
    {
     "name": "stderr",
     "output_type": "stream",
     "text": [
      "C:\\Users\\ALFA RAYAN\\AppData\\Local\\Temp\\ipykernel_14272\\898805795.py:11: ElasticsearchWarning: The kNN search API has been replaced by the `knn` option in the search API.\n",
      "  res = es.knn_search(index=index_name, knn=query, source=[\"title\", \"description\"])\n"
     ]
    },
    {
     "data": {
      "text/plain": "[{'_index': 'netflix_movie',\n  '_id': '18G9tI8BokgvgvJRoekg',\n  '_score': 0.43314347,\n  '_source': {'description': 'Family man Devin falls back into his sneaker obsession after his pal Bobby talks him into a wheeling-dealing scheme to score a mythical pair of kicks.',\n   'title': 'Sneakerheads'}},\n {'_index': 'netflix_movie',\n  '_id': 'AsG9tI8BokgvgvJRpf8t',\n  '_score': 0.43014672,\n  '_source': {'description': 'This documentary chronicles the rise of the footwear designer behind a billion-dollar empire and his subsequent comeback after a financial scandal.',\n   'title': 'Maddman: The Steve Madden Story'}}]"
     },
     "execution_count": 21,
     "metadata": {},
     "output_type": "execute_result"
    }
   ],
   "source": [
    "input_keyword = \"Blue shoes\"\n",
    "vector_of_input_keyword = model.encode(input_keyword)\n",
    "\n",
    "query = {\n",
    "    \"field\" : \"description_vector\",\n",
    "    \"query_vector\" : vector_of_input_keyword,\n",
    "    \"k\" : 2,\n",
    "    \"num_candidates\" : 500, \n",
    "}\n",
    "\n",
    "res = es.knn_search(index=index_name, knn=query, source=[\"title\", \"description\"])\n",
    "res[\"hits\"][\"hits\"]"
   ],
   "metadata": {
    "collapsed": false,
    "ExecuteTime": {
     "end_time": "2024-06-23T19:20:56.521332200Z",
     "start_time": "2024-06-23T19:20:56.341808100Z"
    }
   },
   "id": "97c653d00a3303c4",
   "execution_count": 21
  },
  {
   "cell_type": "code",
   "outputs": [],
   "source": [
    "index_name = \"book_genre_new\"\n",
    "book_genre = es.indices.get(index=index_name)"
   ],
   "metadata": {
    "collapsed": false,
    "ExecuteTime": {
     "end_time": "2024-07-05T12:17:20.976581600Z",
     "start_time": "2024-07-05T12:17:20.935301300Z"
    }
   },
   "id": "a54c7130677f58b4",
   "execution_count": 2
  },
  {
   "cell_type": "code",
   "outputs": [
    {
     "data": {
      "text/plain": "device(type='cuda')"
     },
     "execution_count": 4,
     "metadata": {},
     "output_type": "execute_result"
    }
   ],
   "source": [
    "import torch\n",
    "from sentence_transformers import SentenceTransformer\n",
    "model = SentenceTransformer('../backend/embedding_models/all-MiniLM-L6-v2')\n",
    "\n",
    "device = torch.device(\"cuda\" if torch.cuda.is_available() else \"cpu\")\n",
    "device"
   ],
   "metadata": {
    "collapsed": false,
    "ExecuteTime": {
     "end_time": "2024-07-05T12:19:24.725147400Z",
     "start_time": "2024-07-05T12:19:21.914294700Z"
    }
   },
   "id": "a735ecd2d7514998",
   "execution_count": 4
  },
  {
   "cell_type": "code",
   "outputs": [],
   "source": [
    "model = model.to(device)"
   ],
   "metadata": {
    "collapsed": false
   },
   "id": "e13b5eeab36d49fe"
  }
 ],
 "metadata": {
  "kernelspec": {
   "display_name": "Python 3",
   "language": "python",
   "name": "python3"
  },
  "language_info": {
   "codemirror_mode": {
    "name": "ipython",
    "version": 2
   },
   "file_extension": ".py",
   "mimetype": "text/x-python",
   "name": "python",
   "nbconvert_exporter": "python",
   "pygments_lexer": "ipython2",
   "version": "2.7.6"
  }
 },
 "nbformat": 4,
 "nbformat_minor": 5
}
